{
  "nbformat": 4,
  "nbformat_minor": 0,
  "metadata": {
    "kernelspec": {
      "display_name": "Python 3",
      "language": "python",
      "name": "python3"
    },
    "language_info": {
      "codemirror_mode": {
        "name": "ipython",
        "version": 3
      },
      "file_extension": ".py",
      "mimetype": "text/x-python",
      "name": "python",
      "nbconvert_exporter": "python",
      "pygments_lexer": "ipython3",
      "version": "3.6.8"
    },
    "colab": {
      "name": "Copy of DATA 301 Lab 5 - Evelyn Tran (+Brandon Brownell)",
      "provenance": [],
      "collapsed_sections": [],
      "include_colab_link": true
    }
  },
  "cells": [
    {
      "cell_type": "markdown",
      "metadata": {
        "id": "view-in-github",
        "colab_type": "text"
      },
      "source": [
        "<a href=\"https://colab.research.google.com/github/Cal-Poly-Data-301/lab-5-evelyntr/blob/main/Copy_of_DATA_301_Lab_5_Evelyn_Tran_(%2BBrandon_Brownell).ipynb\" target=\"_parent\"><img src=\"https://colab.research.google.com/assets/colab-badge.svg\" alt=\"Open In Colab\"/></a>"
      ]
    },
    {
      "cell_type": "markdown",
      "metadata": {
        "id": "iG3X1KFIBLUK"
      },
      "source": [
        "# Authorship of the Federalist Papers\n",
        "\n",
        "The _Federalist Papers_ were a set of 85 essays published between 1787 and 1788 to promote the ratification of the United States Constitution. They were originally published under the pseudonym \"Publius\". Although the identity of the authors was a closely guarded secret at the time, most of the papers have since been conclusively attributed to one of Hamilton, Jay, or Madison. The known authorships can be found in `https://dlsun.github.io/pods/data/federalist/authorship.csv`.\n",
        "\n",
        "For 15 of the papers, however, the authorships remain disputed. (These papers can be identified from the `authorship.csv` file because the \"Author\" field is blank.) In this analysis, you will use the papers with known authorship to predict the authorships of the disputed papers. The text of each paper is available at `https://dlsun.github.io/pods/data/federalist/x.txt`, where `x` is the number of the paper (i.e., a number from 1 to 85). The name of the file indicates the number of the paper."
      ]
    },
    {
      "cell_type": "markdown",
      "metadata": {
        "id": "8YRe6SB3BLUN"
      },
      "source": [
        "## Question 1\n",
        "\n",
        "When analyzing an author's style, common words like \"the\" and \"on\" are actually more useful than rare words like \"hostilities\". That is because rare words typically signify context. Context is useful if you are trying to find documents about similar topics, but not so useful if you are trying to identify an author's style because different authors can write about the same topic. For example, both Dr. Seuss and Charles Dickens used rare words like \"chimney\" and \"stockings\" in _How the Grinch Stole Christmas_ and _A Christmas Carol_, respectively. But they used common words very differently: Dickens used the word \"upon\" over 100 times, while Dr. Seuss did not use \"upon\" even once.\n",
        "\n",
        "Read in the Federalist Papers. Convert each one into a vector of term frequencies. In order to restrict to common words, include only the top 50 words across the corpus. (Because we are restricting to the most common words already, there is no reason to reweight them using TF-IDF.)"
      ]
    },
    {
      "cell_type": "code",
      "source": [
        "from sklearn.feature_extraction.text import TfidfVectorizer\n",
        "import pandas as pd\n",
        "import requests\n",
        "from collections import Counter\n",
        "\n",
        "fp_dir = \"https://dlsun.github.io/pods/data/federalist/\"\n",
        "papers = []\n",
        "\n",
        "for i in range(1,86):\n",
        "  papers.append(str(i) + \".txt\")\n",
        "\n",
        "docs_fp = pd.Series()\n",
        "for file in papers:\n",
        "    response = requests.get(fp_dir + file, \"r\")\n",
        "    docs_fp[file[:]] = response.text\n",
        "\n",
        "docs_fp\n",
        "\n",
        "\n",
        "# most_common = Counter(\" \".join(docs_fp).split()).most_common(50)\n",
        "# most_common\n",
        "\n",
        "vec = TfidfVectorizer()\n",
        "\n",
        "vec.fit(docs_fp) # This determines the vocabulary.\n",
        "tf_idf_sparse = vec.transform(docs_fp)\n",
        "tf_idf_sparse\n",
        "\n",
        "# counts_df = pd.DataFrame(tf_sparse.toarray(), columns = vec.get_feature_names_out())\n",
        "# counts_df\n",
        "# counts_df.T.sort_values(by=0, ascending=False).head(50)"
      ],
      "metadata": {
        "id": "LlIwMvVx14vR",
        "colab": {
          "base_uri": "https://localhost:8080/"
        },
        "outputId": "00c0bf74-46dd-4291-b304-69797bfed9fc"
      },
      "execution_count": 47,
      "outputs": [
        {
          "output_type": "stream",
          "name": "stderr",
          "text": [
            "/usr/local/lib/python3.7/dist-packages/ipykernel_launcher.py:12: DeprecationWarning: The default dtype for empty Series will be 'object' instead of 'float64' in a future version. Specify a dtype explicitly to silence this warning.\n",
            "  if sys.path[0] == '':\n"
          ]
        },
        {
          "output_type": "execute_result",
          "data": {
            "text/plain": [
              "<85x8616 sparse matrix of type '<class 'numpy.float64'>'\n",
              "\twith 59720 stored elements in Compressed Sparse Row format>"
            ]
          },
          "metadata": {},
          "execution_count": 47
        }
      ]
    },
    {
      "cell_type": "markdown",
      "metadata": {
        "id": "bDLgJQtaHljA"
      },
      "source": [
        "## Question 2\n",
        "Make a visualization that summarizes the most common words used by Hamilton, Madison, and Jay."
      ]
    },
    {
      "cell_type": "code",
      "source": [
        "import numpy as np                                                              \n",
        "import matplotlib.pyplot as plt\n",
        "# was going to split it up but don't think the questions asks for me to repeat step 1\n",
        "# df_fp = pd.read_csv(\"https://dlsun.github.io/pods/data/federalist/authorship.csv\")\n",
        "\n",
        "hamilton = df_fp[df_fp[\"Author\"] == \"Hamilton\"]\n",
        "madison = df_fp[df_fp[\"Author\"] == \"Madison\"]\n",
        "jay = df_fp[df_fp[\"Author\"] == \"Jay\"]\n",
        "\n",
        "papers_hamilton = \" \".join(hamilton[\"Paper\"].astype(str) + \".txt\").split()\n",
        "papers_madison = \" \".join(madison[\"Paper\"].astype(str) + \".txt\").split()\n",
        "papers_jay = \" \".join(jay[\"Paper\"].astype(str) + \".txt\").split()\n",
        "papers_hamilton\n",
        "docs_hamilton = pd.Series()\n",
        "docs_madison = pd.Series()\n",
        "docs_jay = pd.Series()\n",
        "for file in papers_hamilton:\n",
        "    response = requests.get(fp_dir + file, \"r\")\n",
        "    docs_hamilton[file[:]] = response.text\n",
        "\n",
        "docs_hamilton\n",
        "\n",
        "data = Counter(\" \".join(docs_hamilton).split()).most_common(15)\n",
        "\n",
        "# data = Counter(\" \".join(docs_fp).split()).most_common(50)\n",
        "words = list([i[0] for i in data])\n",
        "frequency = list([i[1] for i in data])\n",
        "\n",
        "fig = plt.figure(figsize = (10, 5))\n",
        " \n",
        "# creating the bar plot\n",
        "plt.bar(words, frequency,width = 0.4)\n",
        " \n",
        "plt.xlabel(\"Words\")\n",
        "plt.ylabel(\"Frequency\")\n",
        "plt.title(\"Most common words - Hamilton\")\n",
        "plt.show()"
      ],
      "metadata": {
        "id": "A2cSV9dssOl7",
        "colab": {
          "base_uri": "https://localhost:8080/",
          "height": 472
        },
        "outputId": "287202f2-3187-41e8-d6f6-e345427b5082"
      },
      "execution_count": 48,
      "outputs": [
        {
          "output_type": "stream",
          "name": "stderr",
          "text": [
            "/usr/local/lib/python3.7/dist-packages/ipykernel_launcher.py:14: DeprecationWarning: The default dtype for empty Series will be 'object' instead of 'float64' in a future version. Specify a dtype explicitly to silence this warning.\n",
            "  \n",
            "/usr/local/lib/python3.7/dist-packages/ipykernel_launcher.py:15: DeprecationWarning: The default dtype for empty Series will be 'object' instead of 'float64' in a future version. Specify a dtype explicitly to silence this warning.\n",
            "  from ipykernel import kernelapp as app\n",
            "/usr/local/lib/python3.7/dist-packages/ipykernel_launcher.py:16: DeprecationWarning: The default dtype for empty Series will be 'object' instead of 'float64' in a future version. Specify a dtype explicitly to silence this warning.\n",
            "  app.launch_new_instance()\n"
          ]
        },
        {
          "output_type": "display_data",
          "data": {
            "image/png": "[encoded data removed]",
            "text/plain": [
              "<Figure size 720x360 with 1 Axes>"
            ]
          },
          "metadata": {
            "needs_background": "light"
          }
        }
      ]
    },
    {
      "cell_type": "code",
      "source": [
        "for file in papers_madison:\n",
        "    response = requests.get(fp_dir + file, \"r\")\n",
        "    docs_madison[file[:]] = response.text\n",
        "\n",
        "data = Counter(\" \".join(docs_madison).split()).most_common(15)\n",
        "\n",
        "words = list([i[0] for i in data])\n",
        "frequency = list([i[1] for i in data])\n",
        "\n",
        "fig = plt.figure(figsize = (10, 5))\n",
        " \n",
        "# creating the bar plot\n",
        "plt.bar(words, frequency,width = 0.4)\n",
        " \n",
        "plt.xlabel(\"Words\")\n",
        "plt.ylabel(\"Frequency\")\n",
        "plt.title(\"Most common words - Madison\")\n",
        "plt.show()"
      ],
      "metadata": {
        "colab": {
          "base_uri": "https://localhost:8080/",
          "height": 350
        },
        "id": "rxZuDabuNgYS",
        "outputId": "fc9566c3-8bd8-4dc1-e9e6-b7747e2f0326"
      },
      "execution_count": 49,
      "outputs": [
        {
          "output_type": "display_data",
          "data": {
            "image/png": "[encoded data removed]",
            "text/plain": [
              "<Figure size 720x360 with 1 Axes>"
            ]
          },
          "metadata": {
            "needs_background": "light"
          }
        }
      ]
    },
    {
      "cell_type": "code",
      "source": [
        "for file in papers_jay:\n",
        "    response = requests.get(fp_dir + file, \"r\")\n",
        "    docs_jay[file[:]] = response.text\n",
        "\n",
        "data = Counter(\" \".join(docs_jay).split()).most_common(15)\n",
        "\n",
        "words = list([i[0] for i in data])\n",
        "frequency = list([i[1] for i in data])\n",
        "\n",
        "fig = plt.figure(figsize = (10, 5))\n",
        " \n",
        "# creating the bar plot\n",
        "plt.bar(words, frequency,width = 0.4)\n",
        " \n",
        "plt.xlabel(\"Words\")\n",
        "plt.ylabel(\"Frequency\")\n",
        "plt.title(\"Most common words - Jay\")\n",
        "plt.show()"
      ],
      "metadata": {
        "colab": {
          "base_uri": "https://localhost:8080/",
          "height": 350
        },
        "id": "7g2wqTaxNw4B",
        "outputId": "55f8ee1e-042e-4ccc-baa0-6f886bed116d"
      },
      "execution_count": 50,
      "outputs": [
        {
          "output_type": "display_data",
          "data": {
            "image/png": "[encoded data removed]",
            "text/plain": [
              "<Figure size 720x360 with 1 Axes>"
            ]
          },
          "metadata": {
            "needs_background": "light"
          }
        }
      ]
    },
    {
      "cell_type": "markdown",
      "metadata": {
        "id": "fh0DzmKrBLUT"
      },
      "source": [
        "## Question 3\n",
        "\n",
        "For each of the documents with disputed authorships, find the 5 most similar documents with _known_ authorships, using cosine distance on the term frequencies. Use the authors of these 5 most similar documents to predict the author of each disputed document. (For example, if 3 of the 5 closest documents were written by Hamilton, 1 by Madison, and 1 by Jay, then we would predict that the disputed document was written by Hamilton.)"
      ]
    },
    {
      "cell_type": "code",
      "source": [
        "import pandas as pd\n",
        "import requests\n",
        "from sklearn.metrics.pairwise import cosine_similarity, cosine_distances\n",
        "from sklearn.feature_extraction.text import CountVectorizer\n",
        " \n",
        "df_fp = pd.read_csv(\"https://dlsun.github.io/pods/data/federalist/authorship.csv\")\n",
        "df_fp[\"Author\"].unique()\n",
        "anon = df_fp[df_fp[\"Author\"].isnull()]\n",
        "anon\n",
        "papers_anon = \" \".join(anon[\"Paper\"].astype(str) + \".txt\").split()\n",
        "docs_anon = pd.Series()\n",
        "for file in papers_anon:\n",
        "    response = requests.get(fp_dir + file, \"r\")\n",
        "    docs_anon[file[:]] = response.text\n",
        "\n",
        "docs_anon\n",
        "\n",
        "arr = cosine_similarity(tf_idf_sparse)\n",
        "\n",
        "# replace unknown author indices with 0 \n",
        "unknown = list(anon[\"Paper\"].astype(int))\n",
        "unknown\n",
        "\n",
        "for i in range(len(papers_anon)):\n",
        "  index = anon.iloc[i][\"Paper\"]\n",
        "  \n",
        "  arr_copy = arr[index].copy()\n",
        "  for j in unknown:\n",
        "    arr_copy[j] = 0\n",
        "\n",
        "  largest_5 = (-arr_copy).argsort()[:5]\n",
        "  # print(list([df_fp.loc[k - 1][\"Author\"] for k in largest_5]))\n",
        "  \n",
        "  print(papers_anon[i], Counter(list([df_fp.loc[k - 1][\"Author\"] for k in largest_5])).most_common(1))"
      ],
      "metadata": {
        "id": "Eey9CgROzWmt",
        "colab": {
          "base_uri": "https://localhost:8080/"
        },
        "outputId": "c5ef0570-c249-48fc-dafe-c4a70648cb74"
      },
      "execution_count": 51,
      "outputs": [
        {
          "output_type": "stream",
          "name": "stderr",
          "text": [
            "/usr/local/lib/python3.7/dist-packages/ipykernel_launcher.py:11: DeprecationWarning: The default dtype for empty Series will be 'object' instead of 'float64' in a future version. Specify a dtype explicitly to silence this warning.\n",
            "  # This is added back by InteractiveShellApp.init_path()\n"
          ]
        },
        {
          "output_type": "stream",
          "name": "stdout",
          "text": [
            "18.txt [('Madison', 4)]\n",
            "19.txt [('Madison', 4)]\n",
            "20.txt [('Hamilton', 3)]\n",
            "49.txt [('Madison', 5)]\n",
            "50.txt [('Madison', 5)]\n",
            "51.txt [('Madison', 3)]\n",
            "52.txt [('Hamilton', 3)]\n",
            "53.txt [('Hamilton', 3)]\n",
            "54.txt [('Hamilton', 3)]\n",
            "55.txt [('Madison', 3)]\n",
            "56.txt [('Madison', 3)]\n",
            "57.txt [('Madison', 3)]\n",
            "58.txt [('Hamilton', 5)]\n",
            "62.txt [('Madison', 4)]\n",
            "63.txt [('Hamilton', 4)]\n"
          ]
        }
      ]
    },
    {
      "cell_type": "markdown",
      "source": [
        "Above we can see the predicted author for each of the unknown author documents."
      ],
      "metadata": {
        "id": "WZ1r13y4vKUj"
      }
    },
    {
      "cell_type": "markdown",
      "metadata": {
        "id": "8Ng3BgkXBLUw"
      },
      "source": [
        "## Submission Instructions\n",
        "\n",
        "- Copy this notebook to your own Drive, if you have not already.\n",
        "- Restart this notebook and run the cells from beginning to end. \n",
        "  - Go to Runtime > Restart and Run All.\n",
        "- Rename this notebook by clicking on \"DATA 301 Lab 5 - YOUR NAMES HERE\" at the very top of this page. Replace \"YOUR NAMES HERE\" with the first and last names of you (and your partners, for Phase 2).\n",
        "- Get the link to your notebook:\n",
        "  - Click on \"Share\" at the top-right. \n",
        "  - Change the settings to \"Anyone with the link can view\". \n",
        "  - Copy the sharing link into Canvas."
      ]
    }
  ]
}